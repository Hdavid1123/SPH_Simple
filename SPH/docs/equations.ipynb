{
 "cells": [
  {
   "cell_type": "markdown",
   "id": "31bc6175",
   "metadata": {},
   "source": [
    "### Función de Densidad en SPH\n",
    "\n",
    "#### Forma estándar (Inicialmente usamos esta para H adaptativo)\n",
    "\n",
    "En el método de Smoothed Particle Hydrodynamics (SPH), la densidad de una partícula \\(i\\) se calcula como:\n",
    "\n",
    "$$ \\rho_i = \\sum_j m_j W(|\\mathbf{r}_i - \\mathbf{r}_j|, h_i) $$\n",
    "\n",
    "donde:\n",
    "- \\( m_j \\) = masa de la partícula \\(j\\),\n",
    "- \\( W \\) = función núcleo (kernel de interpolación),\n",
    "- \\( h_i \\) = longitud de suavizado de la partícula \\(i\\).\n",
    "\n",
    "Esta es la forma **clásica** utilizada en la literatura (Monaghan, 1992).\n",
    "\n",
    "---\n",
    "\n",
    "#### Implementación con corrección (Shepard Filter)\n",
    "\n",
    "El código implementa una versión **normalizada** de la densidad:\n",
    "\n",
    "1. **Densidad preliminar (clásica):**\n",
    "\n",
    "$$ \\rho_i^{*} = m_i W(0, h_i) + \\sum_{j} m_j W(r_{ij}, h_i) $$\n",
    "\n",
    "2. **Factor de normalización:**\n",
    "\n",
    "$$ N_i = \\frac{m_i}{\\rho_i^*} W(0, h_i) +\n",
    "      \\sum_j \\frac{m_j}{\\rho_j} W(r_{ij}, h_i) $$\n",
    "\n",
    "3. **Densidad corregida:**\n",
    "\n",
    "$$ \\rho_i = \\frac{\\rho_i^{*}}{N_i} $$\n",
    "\n",
    "---\n",
    "\n",
    "#### Interpretación\n",
    "\n",
    "- La primera parte corresponde a la **estimación clásica** de densidad en SPH.  \n",
    "- El denominador \\(N_i\\) actúa como un **factor de normalización**, que corrige la interpolación cuando la distribución de partículas no es homogénea.  \n",
    "- Este esquema es conocido en la literatura como **Shepard corrected density** o **normalized SPH density**.\n",
    "\n",
    "---\n",
    "\n",
    "#### Referencias\n",
    "\n",
    "- Monaghan, J. J. (1992). *Smoothed Particle Hydrodynamics*. Annual Review of Astronomy and Astrophysics, 30, 543–574.  \n",
    "- Monaghan, J. J. (2005). *Smoothed particle hydrodynamics*. Reports on Progress in Physics, 68(8), 1703.  \n",
    "- Gingold, R. A., & Monaghan, J. J. (1977). *Smoothed particle hydrodynamics: Theory and application to non-spherical stars*. Monthly Notices of the Royal Astronomical Society, 181, 375–389. \n"
   ]
  },
  {
   "cell_type": "markdown",
   "id": "719da4a7",
   "metadata": {},
   "source": [
    "### Longitud de Suavizado Adaptativo.\n",
    "\n",
    "#### H adaptativo no iterativo (Min Li, 2023).\n",
    "\n",
    "$$ h_i' = \\left[ 1 - \\frac{1}{D} \\left( \\frac{\\rho_i'}{\\rho_i} - 1 \\right) \\right] h_i $$\n",
    "\n",
    "Donde D es la dimensión del sistema."
   ]
  },
  {
   "cell_type": "markdown",
   "id": "c4f7a912",
   "metadata": {},
   "source": [
    "## 1. Condiciones Iniciales\n",
    "\n",
    "### 1.1. Masa y densidad de las partículas"
   ]
  },
  {
   "cell_type": "markdown",
   "id": "73254ea4",
   "metadata": {},
   "source": [
    "La masa de las partículas tiene que se tal que representen la densidad del agua de $\\rho_0 = 1000\\ kg/m^3$, para lo cuál usamos los cuadrados que representan las pseudopartíulas de tamaño inicial $dx^2=dy^2$. Luego la masa de cada partícula será de:\n",
    "\n",
    "$$ m_i = \\rho_0 dx^2 = (1000 kg/m^3) (0.004 m)^2 = 0.016 kg/m $$\n",
    "\n",
    "La pregunta acá es si calcular esa masa es realista pues $\\rho_0$ es 3D."
   ]
  },
  {
   "cell_type": "markdown",
   "id": "69aaf5b6",
   "metadata": {},
   "source": []
  }
 ],
 "metadata": {
  "language_info": {
   "name": "python"
  }
 },
 "nbformat": 4,
 "nbformat_minor": 5
}

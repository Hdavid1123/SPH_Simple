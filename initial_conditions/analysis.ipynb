{
 "cells": [
  {
   "cell_type": "markdown",
   "id": "4bbf6335",
   "metadata": {},
   "source": [
    "## Análisis de las condiciones iniciales."
   ]
  },
  {
   "cell_type": "markdown",
   "id": "df461d99",
   "metadata": {},
   "source": [
    "Si tenemos la siguiente estructura que genera las condiciones iniciales del fluido:\n",
    "$$\n",
    "{\n",
    "  \"nx\": 10,\n",
    "  \"ny\": 10,\n",
    "  \"flag_N\":\"False\",\n",
    "  \"espaciado\": 0.004,\n",
    "  \"vertices\": {\n",
    "    \"inf-izq\": [-0.49, -0.075],\n",
    "    \"inf-der\": [-0.34, -0.075],\n",
    "    \"sup-der\": [-0.34, 0.08],\n",
    "    \"sup-izq\": [-0.49, 0.08]\n",
    "  }\n",
    "}\n",
    "$$\n",
    "\n",
    "Y de fronteras:\n",
    "\n",
    "{\n",
    "  \"quadrilateros\": [\n",
    "    { \n",
    "      \"d1\": 100, \n",
    "      \"d2\": 100, \n",
    "      \"d3\": 100, \n",
    "      \"a1\": -90, \n",
    "      \"a2\": 0, \n",
    "      \"a3\": 90, \n",
    "      \"resolution\": 1.5,\n",
    "      \"agujeros\": [\n",
    "        {\n",
    "          \"lado\": \"CD\",\n",
    "          \"tam\": 10,\n",
    "          \"offset\": 2\n",
    "        }\n",
    "      ]\n",
    "    }\n",
    "  ],\n",
    "  \"free_lines\": [\n",
    "    { \"from\": \"C\", \"length\": 100, \"angle\": -90, \"resolution\": 1.5, \"name\": \"E\" },\n",
    "    { \"from\": \"E\", \"length\": 100, \"angle\": 0, \"resolution\": 1.5, \"name\": \"F\" },\n",
    "    { \"from\": \"F\", \"length\": 100, \"angle\": 90, \"resolution\": 1.5, \"name\": \"G\" }\n",
    "  ]\n",
    "  }\n"
   ]
  },
  {
   "cell_type": "code",
   "execution_count": 1,
   "id": "3b34c9ad",
   "metadata": {},
   "outputs": [
    {
     "name": "stdout",
     "output_type": "stream",
     "text": [
      "   id  posx      posy       h  type     mass      dx      dy\n",
      "0   0  -0.5  0.083333  0.0025     1  0.00625  0.0025  0.0025\n",
      "1   1  -0.5  0.080808  0.0025     1  0.00625  0.0025  0.0025\n",
      "2   2  -0.5  0.078283  0.0025     1  0.00625  0.0025  0.0025\n",
      "3   3  -0.5  0.075758  0.0025     1  0.00625  0.0025  0.0025\n",
      "4   4  -0.5  0.073232  0.0025     1  0.00625  0.0025  0.0025\n"
     ]
    }
   ],
   "source": [
    "import pandas as pd\n",
    "\n",
    "filename = \"outputs/salpicadura_vaciado_llenado.txt\"\n",
    "\n",
    "# Cargar el archivo\n",
    "df = pd.read_csv(filename, sep=\"\\s+\", header=0)\n",
    "\n",
    "# Ver las primeras filas\n",
    "print(df.head())"
   ]
  },
  {
   "cell_type": "code",
   "execution_count": 2,
   "id": "713fe0f9",
   "metadata": {},
   "outputs": [
    {
     "name": "stdout",
     "output_type": "stream",
     "text": [
      "type\n",
      "0    1482\n",
      "1     456\n",
      "Name: count, dtype: int64\n"
     ]
    }
   ],
   "source": [
    "conteo_tipos = df['type'].value_counts()\n",
    "print(conteo_tipos)"
   ]
  },
  {
   "cell_type": "code",
   "execution_count": 5,
   "id": "b67d302a",
   "metadata": {},
   "outputs": [
    {
     "name": "stdout",
     "output_type": "stream",
     "text": [
      "Dimensiones cuadrilátero:\n",
      "Ancho = 0.14799999999999996  Alto = 0.152  Área = 0.022495999999999995\n"
     ]
    }
   ],
   "source": [
    "fluido = df[df['type'] == 0]\n",
    "\n",
    "x_min, x_max = fluido[\"posx\"].min(), fluido[\"posx\"].max()\n",
    "y_min, y_max = fluido[\"posy\"].min(), fluido[\"posy\"].max()\n",
    "\n",
    "ancho = x_max - x_min\n",
    "alto = y_max - y_min\n",
    "area = ancho * alto\n",
    "\n",
    "print(\"Dimensiones cuadrilátero:\")\n",
    "print(\"Ancho =\", ancho, \" Alto =\", alto, \" Área =\", area)"
   ]
  },
  {
   "cell_type": "code",
   "execution_count": null,
   "id": "1e7d452b",
   "metadata": {},
   "outputs": [],
   "source": []
  }
 ],
 "metadata": {
  "kernelspec": {
   "display_name": "sph_geometry",
   "language": "python",
   "name": "python3"
  },
  "language_info": {
   "codemirror_mode": {
    "name": "ipython",
    "version": 3
   },
   "file_extension": ".py",
   "mimetype": "text/x-python",
   "name": "python",
   "nbconvert_exporter": "python",
   "pygments_lexer": "ipython3",
   "version": "3.10.16"
  }
 },
 "nbformat": 4,
 "nbformat_minor": 5
}
